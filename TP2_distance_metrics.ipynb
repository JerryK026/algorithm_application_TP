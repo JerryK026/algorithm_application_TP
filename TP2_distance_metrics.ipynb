{
 "cells": [
  {
   "cell_type": "markdown",
   "metadata": {},
   "source": [
    "# 1.distance metircs이 왜 중요한가?\n",
    "\n",
    "Machine Learning 분야에는 input data의 distance metric을 어떻게 설정하냐에 따라 크게 영향을 받는 알고리즘들이 존재한다. 대표적인 예를 들어 KNN이 있다. 그렇기 때문에 distance metrics에 따라 해당 알고리즘들의 성능을 크게 증가시킬 수 있다.\n",
    "\n",
    "참고 : http://sanghyukchun.github.io/37/"
   ]
  },
  {
   "cell_type": "markdown",
   "metadata": {},
   "source": [
    "# 2.distance metrics은 일상생활에 어떻게 적용되는가?\n",
    "\n",
    "distance metric은 단순히 최단거리(Euclidean)를 계산하는 것만이 아니다. 데이터 분포와 원하는 데이터의 특징 등을 고려하여 거리를 재정의해서 사용하게 되는데, 이 거리를 재정의함에 따라 다양한 분야에 사용될 수 있다. 진짜 거리를 재는 데 사용할 수도 있고, 데이터끼리의 연관관계에 이용할 수도 있으므로, 자연어 처리 과정에서 voca형성에 적용될 수도 있는 등의 분야에 이용된다."
   ]
  },
  {
   "cell_type": "markdown",
   "metadata": {},
   "source": [
    "# 3.distance metrics를 활용 가능한 주요 알고리즘이나 패키지는 무엇이 있는가?\n",
    "\n",
    "Manhattan distance : 좌표 공간에 표현된 두 점 사이의 각 축에 해당되는 거리 차이를 모두 합한 거리이다.\n",
    "Euclidean distance : 좌표 공간에 표현된 두 점 사이의 최단거리를 나타낸다.\n",
    "Mahalanobis distance : Euclidean distance에서 각 component들 간 상관관계를 없애고, scale에 민감하지 않게 정규화 해준 다음 거리를 계산한 것이다.\n",
    "=>Mahalanobis distance는 값은 데이터라도, 기준치의 단위가 달라졌을 때, 값이 차이가 나게 되는 Euclidean distance의 단점을 보완해준다.\n",
    "등이 있다."
   ]
  },
  {
   "cell_type": "markdown",
   "metadata": {},
   "source": [
    "# 4.distance metircs의 핵심 아이디어는 무엇인가?\n",
    "\n",
    "distance metrics의 핵심 아이디어는 필요에 따라 거리를 재정의해서 사용하는 것이다. 즉, 재정의하는 기준에 따라 폭넓게 사용할 수 있고, 그 기준에 따라 데이터들 간 상관관계를 표현하는 데 사용하는 것이 핵심 아이디어이다."
   ]
  }
 ],
 "metadata": {
  "kernelspec": {
   "display_name": "Python 3",
   "language": "python",
   "name": "python3"
  },
  "language_info": {
   "codemirror_mode": {
    "name": "ipython",
    "version": 3
   },
   "file_extension": ".py",
   "mimetype": "text/x-python",
   "name": "python",
   "nbconvert_exporter": "python",
   "pygments_lexer": "ipython3",
   "version": "3.7.4"
  }
 },
 "nbformat": 4,
 "nbformat_minor": 2
}
